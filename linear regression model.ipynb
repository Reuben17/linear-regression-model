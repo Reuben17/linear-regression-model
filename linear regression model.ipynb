{
  "nbformat": 4,
  "nbformat_minor": 0,
  "metadata": {
    "colab": {
      "name": "task1.ipynb",
      "provenance": [],
      "authorship_tag": "ABX9TyO9NFpazI7gpWbalae1Ysgy",
      "include_colab_link": true
    },
    "kernelspec": {
      "name": "python3",
      "display_name": "Python 3"
    },
    "language_info": {
      "name": "python"
    }
  },
  "cells": [
    {
      "cell_type": "markdown",
      "metadata": {
        "id": "view-in-github",
        "colab_type": "text"
      },
      "source": [
        "<a href=\"https://colab.research.google.com/github/Reuben17/linear-regression-model/blob/main/linear%20regression%20model.ipynb\" target=\"_parent\"><img src=\"https://colab.research.google.com/assets/colab-badge.svg\" alt=\"Open In Colab\"/></a>"
      ]
    },
    {
      "cell_type": "code",
      "execution_count": 183,
      "metadata": {
        "id": "UXgw1cPt-3tR",
        "colab": {
          "base_uri": "https://localhost:8080/"
        },
        "outputId": "f85a2b5e-0809-43ec-c0cb-4cbcc479d79a"
      },
      "outputs": [
        {
          "output_type": "stream",
          "name": "stdout",
          "text": [
            "Looking in indexes: https://pypi.org/simple, https://us-python.pkg.dev/colab-wheels/public/simple/\n",
            "Requirement already satisfied: Faker in /usr/local/lib/python3.7/dist-packages (13.12.1)\n",
            "Requirement already satisfied: typing-extensions>=3.10.0.2 in /usr/local/lib/python3.7/dist-packages (from Faker) (4.2.0)\n",
            "Requirement already satisfied: python-dateutil>=2.4 in /usr/local/lib/python3.7/dist-packages (from Faker) (2.8.2)\n",
            "Requirement already satisfied: six>=1.5 in /usr/local/lib/python3.7/dist-packages (from python-dateutil>=2.4->Faker) (1.15.0)\n"
          ]
        }
      ],
      "source": [
        "!pip install Faker\n",
        "from faker import Faker\n"
      ]
    },
    {
      "cell_type": "code",
      "source": [
        "from typing import Reversible\n",
        "from numpy.ma.core import sort\n",
        "import pandas as pd\n",
        "import random\n",
        "from faker import Faker\n",
        "from random import randrange\n",
        "from datetime import datetime\n",
        "\n",
        "nr_of_offices= 100\n",
        "fake= Faker('de_DE')\n",
        "offices=[]\n",
        "\n",
        "for offices_id in range(nr_of_offices):\n",
        "\n",
        "  size = fake.pyfloat(right_digits=2,min_value=1, max_value=50, positive = True)\n",
        "  price = size + 1\n",
        "  \n",
        "  offices.append([size,price])\n",
        "offices_df =pd.DataFrame(offices,columns=['size','price'])\n",
        "offices_df.sort_values(by=['size'], inplace=True)\n",
        "\n",
        "pd.pandas.set_option('display.max_columns',None)\n",
        "print(offices_df)\n"
      ],
      "metadata": {
        "colab": {
          "base_uri": "https://localhost:8080/"
        },
        "id": "QqRaq6RoAdCv",
        "outputId": "1d91751f-ccb2-4753-d27b-7a9940f7b60f"
      },
      "execution_count": 184,
      "outputs": [
        {
          "output_type": "stream",
          "name": "stdout",
          "text": [
            "     size  price\n",
            "84   1.70   2.70\n",
            "37   2.60   3.60\n",
            "36   4.00   5.00\n",
            "49   4.37   5.37\n",
            "42   4.56   5.56\n",
            "..    ...    ...\n",
            "63  48.95  49.95\n",
            "93  49.33  50.33\n",
            "91  49.46  50.46\n",
            "97  49.49  50.49\n",
            "66  49.51  50.51\n",
            "\n",
            "[100 rows x 2 columns]\n"
          ]
        }
      ]
    },
    {
      "cell_type": "code",
      "source": [
        "from google.colab import files\n",
        "offices_df.to_csv('offices_df.csv')\n",
        "files.download('offices_df.csv')"
      ],
      "metadata": {
        "id": "vpCaPPW0QVXz"
      },
      "execution_count": null,
      "outputs": []
    },
    {
      "cell_type": "code",
      "source": [
        "import matplotlib.pyplot as plt\n",
        "from scipy import stats\n",
        "import numpy as np\n",
        "office_details = np.array(offices)\n",
        "x=office_details[:,0]\n",
        "y=office_details[:,1]\n",
        "\n",
        "class model:\n",
        "  def __init__(self,xArray,yArray):\n",
        "     self.xArr=xArray\n",
        "     self.yArr=yArray\n",
        "     self.no_of_points = len(self.xArr)\n",
        "     self.learnc = 0.000001\n",
        "     self.weight = 3\n",
        "     self.bias = 1.5\n",
        "     self.cost = 0\n",
        "  def getWeight(self):\n",
        "    return self.weight\n",
        "\n",
        "  def getBias(self):\n",
        "    return self.bias\n",
        "\n",
        "  def costError(self):\n",
        "    total = 0;\n",
        "    for i in range(self.no_of_points):\n",
        "     total += (self.yArr[i] - (self.weight * self.xArr[i] + self.bias)) **2\n",
        "    return total / self.no_of_points\n",
        "    print(total / self.no_of_points)\n",
        "\n",
        "  def updateWeights(self):\n",
        "    wx=0\n",
        "    w_deriv = 0\n",
        "    b_deriv = 0\n",
        "    for i in range(self.no_of_points): \n",
        "      wx = self.yArr[i] - (self.weight * self.xArr[i] + self.bias)\n",
        "      w_deriv += -2 * wx * self.xArr[i]\n",
        "      b_deriv += -2 * wx\n",
        "  \n",
        "    self.weight -= (w_deriv / self.no_of_points) * self.learnc\n",
        "    self.bias -= (b_deriv / self.no_of_points) * self.learnc\n",
        "\n",
        "  def trainFunction(self,iter):\n",
        "    for i in range(iter):\n",
        "     model.updateWeights(self)\n",
        "     self.cost = model.costError(self)\n",
        "\n",
        "  def plot(self): \n",
        "    y = self.weight * self.xArr + self.bias\n",
        "    plt.scatter(self.xArr,self.yArr)\n",
        "    plt.plot(self.xArr,y)\n",
        "\n",
        "a =model(x,y)\n",
        "\n",
        "a.trainFunction(10000)\n",
        "a.plot()\n",
        "c=a.costError()\n",
        "print('Cost error:'+str(c))\n",
        "w=  a.getWeight()\n",
        "b = a.getBias()\n",
        "office_price = (w * 100) + b\n",
        "print(\"Office Price:\"+str(office_price))\n",
        "\n",
        "\n"
      ],
      "metadata": {
        "id": "W4e7sMMjR8fY",
        "colab": {
          "base_uri": "https://localhost:8080/",
          "height": 301
        },
        "outputId": "ef1df4cd-23a5-4b55-8c01-fd2728e803ab"
      },
      "execution_count": 206,
      "outputs": [
        {
          "output_type": "stream",
          "name": "stdout",
          "text": [
            "Cost error:0.045095252856013915\n",
            "Office Price:100.13778933206238\n"
          ]
        },
        {
          "output_type": "display_data",
          "data": {
            "text/plain": [
              "<Figure size 432x288 with 1 Axes>"
            ],
            "image/png": "[encoded data removed]"
          },
          "metadata": {
            "needs_background": "light"
          }
        }
      ]
    }
  ]
}